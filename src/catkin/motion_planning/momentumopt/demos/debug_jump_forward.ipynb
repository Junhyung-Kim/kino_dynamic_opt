{
 "cells": [
  {
   "cell_type": "code",
   "execution_count": null,
   "metadata": {},
   "outputs": [],
   "source": [
    "import numpy as np\n",
    "\n",
    "%matplotlib inline\n",
    "%config InlineBackend.figure_format = 'retina'\n",
    "import matplotlib.pyplot as plt\n",
    "\n",
    "from PyDemoMomentumopt import MotionPlanner"
   ]
  },
  {
   "cell_type": "code",
   "execution_count": null,
   "metadata": {},
   "outputs": [],
   "source": [
    "cfg_file = '../config/SAB_Demos/cfg_quadruped_forward_jump.yaml'\n",
    "\n",
    "motion_planner = MotionPlanner(cfg_file)\n",
    "# optimized_kin_plan, optimized_motion_eff, optimized_dyn_plan, planner_setting, time_vector = motion_planner.optimize_motion()"
   ]
  },
  {
   "cell_type": "code",
   "execution_count": null,
   "metadata": {},
   "outputs": [],
   "source": [
    "# Dynamic optimization\n",
    "motion_planner.optimize_dynamics(0)\n",
    "dynseq = motion_planner.dyn_optimizer.dynamicsSequence()\n",
    "\n",
    "com = np.array([ds.com for ds in dynseq.dynamics_states])\n",
    "plt.plot(com[:])\n",
    "plt.title('COM')\n",
    "\n",
    "motion_planner.optimize_kinematics(0)"
   ]
  },
  {
   "cell_type": "code",
   "execution_count": null,
   "metadata": {},
   "outputs": [],
   "source": [
    "import numpy as np\n",
    "\n",
    "self = motion_planner.kin_optimizer\n",
    "\n",
    "\n",
    "des_traj = np.zeros((len(self.robot.effs), len(self.time), 3))\n",
    "\n",
    "for eff_id, eff in enumerate(self.robot.effs):\n",
    "    for t in range(len(self.time)):\n",
    "        self.in_contact[eff_id] = False\n",
    "        phase = 0\n",
    "        cnt_ = self.contacts[eff]\n",
    "\n",
    "        for i in range(len(cnt_)):\n",
    "            if cnt_[i].start_time() <= self.time[t] < cnt_[i].end_time():\n",
    "                phase = i\n",
    "                self.in_contact[eff_id] = True\n",
    "\n",
    "        if self.in_contact[eff_id]:\n",
    "            # Set goal position to contact position\n",
    "            new_goal = self.contacts[eff][phase].position()\n",
    "        else:\n",
    "            # Set goal position to minimum jerk trajectory of endeffector\n",
    "            new_goal = [self.eff_traj_poly[eff][coord].eval(self.time[t]) for coord in range(3)]\n",
    "\n",
    "        des_traj[eff_id, t] = new_goal"
   ]
  },
  {
   "cell_type": "code",
   "execution_count": null,
   "metadata": {},
   "outputs": [],
   "source": [
    "fig, axes = plt.subplots(2, 1, figsize=(5, 8), sharex=True)\n",
    "\n",
    "axes[0].plot(motion_planner.kin_optimizer.motion_eff[\"trajectory\"][:, 2], label='BR_eff_actual')\n",
    "axes[0].plot(des_traj[0, :, 2], label='BR_eff_desired')\n",
    "axes[0].plot(motion_planner.kin_optimizer.motion_eff[\"COM\"][:, 2], label='COM_z')\n",
    "\n",
    "axes[1].plot(motion_planner.kin_optimizer.motion_eff[\"velocity\"][:, 2], label='BR_eff_velz')\n",
    "axes[1].set_xlabel('Timesteps')\n",
    "\n",
    "for ax in axes:\n",
    "    ax.grid(True)\n",
    "    ax.legend()\n",
    "\n",
    "plt.show()\n",
    "\n"
   ]
  },
  {
   "cell_type": "code",
   "execution_count": null,
   "metadata": {},
   "outputs": [],
   "source": []
  }
 ],
 "metadata": {
  "language_info": {
   "name": "python",
   "pygments_lexer": "ipython3"
  }
 },
 "nbformat": 4,
 "nbformat_minor": 2
}
