{
 "cells": [
  {
   "cell_type": "code",
   "execution_count": null,
   "metadata": {},
   "outputs": [],
   "source": [
    "%load_ext autoreload\n",
    "%autoreload 2\n",
    "\n",
    "import numpy as np\n",
    "\n",
    "%matplotlib inline\n",
    "%config InlineBackend.figure_format = 'retina'\n",
    "import matplotlib.pyplot as plt\n",
    "\n",
    "import time\n",
    "\n",
    "from PyDemoMomentumopt import MotionPlanner\n",
    "from src.momentumopt.kinoptpy.momentum_kinematics_optimizer import MomentumKinematicsOptimizer\n",
    "\n",
    "def replay_kinematic_plan():\n",
    "    for ks in motion_planner.kin_optimizer.kinematics_sequence.kinematics_states:\n",
    "        q = ks.robot_posture.generalized_joint_positions\n",
    "        motion_planner.kin_optimizer.robot.display(np.matrix(q).T)\n",
    "        time.sleep(0.1)"
   ]
  },
  {
   "cell_type": "code",
   "execution_count": null,
   "metadata": {},
   "outputs": [],
   "source": [
    "# cfg_file = '../config/SAB_Demos/cfg_quadruped_forward_jump.yaml'\n",
    "# cfg_file = '../config/cfg_demo01_walk_short.yaml'\n",
    "cfg_file = '../config/cfg_quadruped_lift_rear.yaml'\n",
    "# cfg_file = '../config/cfg_quadruped_lift_leg_momentum.yaml'\n",
    "# cfg_file = '../config/cfg_quadruped_lift_leg_momentum_rotated.yaml'\n",
    "\n",
    "motion_planner = MotionPlanner(cfg_file, KinOpt=MomentumKinematicsOptimizer)\n",
    "inv_kin = motion_planner.kin_optimizer.inv_kin\n",
    "kin_opt = motion_planner.kin_optimizer\n",
    "\n",
    "# Dynamic optimization\n",
    "motion_planner.optimize_dynamics(0)\n",
    "# optimized_kin_plan, optimized_motion_eff, optimized_dyn_plan, planner_setting, time_vector = motion_planner.optimize_motion()"
   ]
  },
  {
   "cell_type": "code",
   "execution_count": null,
   "metadata": {},
   "outputs": [],
   "source": [
    "inv_kin.w_com_tracking[:3] = 1\n",
    "inv_kin.w_com_tracking[3:] = 1\n",
    "inv_kin.w_com_tracking[4] = 1\n",
    "inv_kin.w_endeff_contact = 500.\n",
    "inv_kin.p_com_tracking = 1\n",
    "motion_planner.kin_optimizer.reg_orientation = 0.1\n",
    "\n",
    "motion_planner.optimize_kinematics(0)\n",
    "motion_planner.plot_centroidal()\n",
    "motion_planner.replay_kinematics()"
   ]
  },
  {
   "cell_type": "code",
   "execution_count": null,
   "metadata": {},
   "outputs": [],
   "source": [
    "motion_planner.optimize_dynamics(1)\n",
    "motion_planner.kin_optimizer.reg_orientation = 0.0\n",
    "\n",
    "motion_planner.optimize_kinematics(1)\n",
    "motion_planner.plot_centroidal()\n",
    "motion_planner.replay_kinematics()"
   ]
  },
  {
   "cell_type": "code",
   "execution_count": null,
   "metadata": {},
   "outputs": [],
   "source": [
    "\n",
    "\n",
    "\n",
    "motion_planner.optimize_kinematics(1)\n",
    "motion_planner.plot_centroidal()\n",
    "motion_planner.replay_kinematics()"
   ]
  },
  {
   "cell_type": "code",
   "execution_count": null,
   "metadata": {},
   "outputs": [],
   "source": [
    "%load_ext autoreload\n",
    "%autoreload 2\n",
    "\n",
    "\n",
    "mkin_opt.initialize(motion_planner.planner_setting, 50)\n",
    "\n",
    "mkin_opt.optimize(motion_planner.ini_state, \n",
    "                  motion_planner.contact_plan.contactSequence(),\n",
    "                  motion_planner.dyn_optimizer.dynamicsSequence())\n",
    "\n",
    "for q in mkin_opt.q_kin:\n",
    "    mkin_opt.robot.display(np.matrix(q).T)\n",
    "    time.sleep(mkin_opt.dt)"
   ]
  },
  {
   "cell_type": "code",
   "execution_count": null,
   "metadata": {},
   "outputs": [],
   "source": []
  },
  {
   "cell_type": "code",
   "execution_count": null,
   "metadata": {},
   "outputs": [],
   "source": [
    "# Create trajectories for the endeffectors"
   ]
  },
  {
   "cell_type": "code",
   "execution_count": null,
   "metadata": {},
   "outputs": [],
   "source": [
    "\n",
    "    \n",
    "fig, axes = plt.subplots(3, 1, figsize=(6, 8), sharex=True)\n",
    "\n",
    "dynseq = {'com': mkin_opt.com_dyn, 'lmom': mkin_opt.lmom_dyn, 'amom': mkin_opt.amom_dyn}\n",
    "kinseq = {'com': mkin_opt.com_kin, 'lmom': mkin_opt.lmom_kin, 'amom': mkin_opt.amom_kin}\n",
    "\n",
    "for i, (ax, prop) in enumerate(zip(axes, ['com', 'lmom', 'amom'])):\n",
    "    data_dyn = dynseq[prop][:it_opt]\n",
    "    data_kin = kinseq[prop][:it_opt]\n",
    "\n",
    "    for dyn, kin, label in zip(data_dyn.T, data_kin.T, ['{}_{}'.format(prop, d) for d in ['x', 'y', 'z']]):\n",
    "        line = ax.plot(dyn, label=label, alpha=0.75)[0]\n",
    "        ax.plot(kin, '--', color=line.get_color())[0]\n",
    "\n",
    "    ax.legend()\n",
    "    ax.grid(True)\n",
    "\n",
    "fig.suptitle('Centroidal info for dyn (-) and kin (--)')\n",
    "fig.tight_layout(rect=[0, 0, 1., 0.95])"
   ]
  },
  {
   "cell_type": "code",
   "execution_count": null,
   "metadata": {},
   "outputs": [],
   "source": []
  },
  {
   "cell_type": "code",
   "execution_count": null,
   "metadata": {},
   "outputs": [],
   "source": []
  }
 ],
 "metadata": {
  "language_info": {
   "name": "python",
   "pygments_lexer": "ipython3"
  }
 },
 "nbformat": 4,
 "nbformat_minor": 2
}
