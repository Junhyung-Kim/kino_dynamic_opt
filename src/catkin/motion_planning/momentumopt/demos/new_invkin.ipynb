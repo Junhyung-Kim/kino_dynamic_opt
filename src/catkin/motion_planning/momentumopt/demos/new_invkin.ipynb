{
 "cells": [
  {
   "cell_type": "code",
   "execution_count": null,
   "metadata": {},
   "outputs": [],
   "source": [
    "%load_ext autoreload\n",
    "%autoreload 2\n",
    "\n",
    "import numpy as np\n",
    "\n",
    "%matplotlib inline\n",
    "%config InlineBackend.figure_format = 'retina'\n",
    "import matplotlib.pyplot as plt\n",
    "\n",
    "import time\n",
    "\n",
    "from PyDemoMomentumopt import MotionPlanner\n",
    "from src.momentumopt.kinoptpy.momentum_kinematics_optimizer import MomentumKinematicsOptimizer\n",
    "\n",
    "def replay_kinematic_plan():\n",
    "    for ks in motion_planner.kin_optimizer.kinematics_sequence.kinematics_states:\n",
    "        q = ks.robot_posture.generalized_joint_positions\n",
    "        motion_planner.kin_optimizer.robot.display(np.matrix(q).T)\n",
    "        time.sleep(0.1)"
   ]
  },
  {
   "cell_type": "code",
   "execution_count": null,
   "metadata": {},
   "outputs": [],
   "source": [
    "# cfg_file = '../config/SAB_Demos/cfg_quadruped_forward_jump.yaml'\n",
    "# cfg_file = '../config/cfg_demo01_walk_short.yaml'\n",
    "# cfg_file = '../config/cfg_quadruped_lift_leg_momentum.yaml'\n",
    "cfg_file = '../config/cfg_quadruped_lift_leg_momentum_rotated.yaml'\n",
    "\n",
    "mkin_opt = MomentumKinematicsOptimizer()\n",
    "\n",
    "motion_planner = MotionPlanner(cfg_file, KinOpt=MomentumKinematicsOptimizer)\n",
    "# optimized_kin_plan, optimized_motion_eff, optimized_dyn_plan, planner_setting, time_vector = motion_planner.optimize_motion()"
   ]
  },
  {
   "cell_type": "code",
   "execution_count": null,
   "metadata": {},
   "outputs": [],
   "source": [
    "# Dynamic optimization\n",
    "# motion_planner.optimize_dynamics(0)\n",
    "# motion_planner.optimize_kinematics(0)\n",
    "# motion_planner.plot_centroidal()\n",
    "# motion_planner.replay_kinematics()\n",
    "\n",
    "motion_planner.optimize_dynamics(1)\n",
    "motion_planner.optimize_kinematics(1)\n",
    "motion_planner.plot_centroidal()\n",
    "motion_planner.replay_kinematics()"
   ]
  },
  {
   "cell_type": "code",
   "execution_count": null,
   "metadata": {},
   "outputs": [],
   "source": [
    "import pinocchio as se3\n",
    "\n",
    "robot = motion_planner.kin_optimizer.robot\n",
    "q = motion_planner.kin_optimizer.q_init\n",
    "dq = motion_planner.kin_optimizer.dq_init\n",
    "\n",
    "quad = se3.Quaternion(se3.rpy.rpyToMatrix(np.matrix([0.0, 0, np.pi/4]).T))\n",
    "# quad = se3.Quaternion(se3.rpy.rpyToMatrix(np.matrix([0, 0, 0]).T))\n",
    "q[3:7] = quad.coeffs()\n",
    "\n",
    "robot.robot.forwardKinematics(q, dq)\n",
    "robot.robot.framesForwardKinematics(q)\n",
    "\n",
    "robot.display(q)\n",
    "\n",
    "for eff in [robot.robot.data.oMf[idx].translation for idx in  motion_planner.kin_optimizer.inv_kin.endeff_ids]:\n",
    "    print(eff.T)"
   ]
  },
  {
   "cell_type": "code",
   "execution_count": null,
   "metadata": {},
   "outputs": [],
   "source": [
    "# Test the frame orientation for data.Ag and data.hg\n",
    "# -> Both are expressed wrt. to the inertia frame.\n",
    "\n",
    "import pinocchio as se3\n",
    "\n",
    "q = motion_planner.kin_optimizer.q_init.copy()\n",
    "robot = motion_planner.kin_optimizer.robot\n",
    "\n",
    "q[3:6] = 0.\n",
    "q[6] = 1.\n",
    "\n",
    "robot.display(q)\n",
    "dq = motion_planner.kin_optimizer.dq_init\n",
    "\n",
    "# time.sleep(0.5)\n",
    "\n",
    "dq[0] = 0.5\n",
    "dq[3] = 0.5\n",
    "\n",
    "q_next = se3.integrate(robot.model, q, dq)\n",
    "robot.display(q_next)\n",
    "\n",
    "robot.robot.centroidalMomentum(q, dq).linear\n",
    "print(robot.robot.data.Ag.dot(dq))\n",
    "\n",
    "print(robot.robot.data.hg.linear)\n",
    "print(robot.robot.data.hg.angular)"
   ]
  },
  {
   "cell_type": "code",
   "execution_count": null,
   "metadata": {},
   "outputs": [],
   "source": [
    "%load_ext autoreload\n",
    "%autoreload 2\n",
    "\n",
    "\n",
    "mkin_opt.initialize(motion_planner.planner_setting, 50)\n",
    "\n",
    "mkin_opt.optimize(motion_planner.ini_state, \n",
    "                  motion_planner.contact_plan.contactSequence(),\n",
    "                  motion_planner.dyn_optimizer.dynamicsSequence())\n",
    "\n",
    "for q in mkin_opt.q_kin:\n",
    "    mkin_opt.robot.display(np.matrix(q).T)\n",
    "    time.sleep(mkin_opt.dt)"
   ]
  },
  {
   "cell_type": "code",
   "execution_count": null,
   "metadata": {},
   "outputs": [],
   "source": []
  },
  {
   "cell_type": "code",
   "execution_count": null,
   "metadata": {},
   "outputs": [],
   "source": [
    "# Create trajectories for the endeffectors"
   ]
  },
  {
   "cell_type": "code",
   "execution_count": null,
   "metadata": {},
   "outputs": [],
   "source": [
    "\n",
    "    \n",
    "fig, axes = plt.subplots(3, 1, figsize=(6, 8), sharex=True)\n",
    "\n",
    "dynseq = {'com': mkin_opt.com_dyn, 'lmom': mkin_opt.lmom_dyn, 'amom': mkin_opt.amom_dyn}\n",
    "kinseq = {'com': mkin_opt.com_kin, 'lmom': mkin_opt.lmom_kin, 'amom': mkin_opt.amom_kin}\n",
    "\n",
    "for i, (ax, prop) in enumerate(zip(axes, ['com', 'lmom', 'amom'])):\n",
    "    data_dyn = dynseq[prop][:it_opt]\n",
    "    data_kin = kinseq[prop][:it_opt]\n",
    "\n",
    "    for dyn, kin, label in zip(data_dyn.T, data_kin.T, ['{}_{}'.format(prop, d) for d in ['x', 'y', 'z']]):\n",
    "        line = ax.plot(dyn, label=label, alpha=0.75)[0]\n",
    "        ax.plot(kin, '--', color=line.get_color())[0]\n",
    "\n",
    "    ax.legend()\n",
    "    ax.grid(True)\n",
    "\n",
    "fig.suptitle('Centroidal info for dyn (-) and kin (--)')\n",
    "fig.tight_layout(rect=[0, 0, 1., 0.95])"
   ]
  },
  {
   "cell_type": "code",
   "execution_count": null,
   "metadata": {},
   "outputs": [],
   "source": []
  },
  {
   "cell_type": "code",
   "execution_count": null,
   "metadata": {},
   "outputs": [],
   "source": []
  }
 ],
 "metadata": {
  "language_info": {
   "name": "python",
   "pygments_lexer": "ipython3"
  }
 },
 "nbformat": 4,
 "nbformat_minor": 2
}
