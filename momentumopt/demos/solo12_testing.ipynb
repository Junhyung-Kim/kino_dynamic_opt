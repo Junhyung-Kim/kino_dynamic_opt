{
 "cells": [
  {
   "cell_type": "code",
   "execution_count": 1,
   "metadata": {},
   "outputs": [],
   "source": [
    "%load_ext autoreload\n",
    "%autoreload 2\n",
    "\n",
    "import numpy as np\n",
    "\n",
    "import matplotlib.pyplot as plt\n",
    "\n",
    "import time\n",
    "\n",
    "from pymomentum import *\n",
    "\n",
    "from PyDemoMomentumopt import MotionPlanner\n",
    "from momentumopt.kinoptpy.momentum_kinematics_optimizer import MomentumKinematicsOptimizer\n",
    "\n",
    "from quadruped.quadruped_wrapper import Quadruped12Wrapper\n",
    "\n",
    "def replay_kinematic_plan():\n",
    "    for ks in motion_planner.kin_optimizer.kinematics_sequence.kinematics_states:\n",
    "        q = ks.robot_posture.generalized_joint_positions\n",
    "        motion_planner.kin_optimizer.robot.display(np.matrix(q).T)\n",
    "        time.sleep(0.1)"
   ]
  },
  {
   "cell_type": "code",
   "execution_count": 2,
   "metadata": {},
   "outputs": [
    {
     "name": "stderr",
     "output_type": "stream",
     "text": [
      "/home/jviereck/dev/learn_to_control_ws/workspace/src/catkin/control/kino-dynamic-opt/momentumopt/src/quadruped/quadruped_wrapper.py:225: DeprecatedWarning: Using deprecated instance variable Model.neutralConfiguration. Please use Model.referenceConfigurations instead.\n",
      "  self.q = self.robot.model.neutralConfiguration.copy()\n"
     ]
    }
   ],
   "source": [
    "cfg_file = '../config/cfg_quadruped_trot_inplace_solo12.yaml'\n",
    "\n",
    "motion_planner = MotionPlanner(cfg_file, RobotWrapper=Quadruped12Wrapper)\n",
    "inv_kin = motion_planner.kin_optimizer.inv_kin\n",
    "kin_opt = motion_planner.kin_optimizer\n",
    "\n",
    "kin_opt.robot.ensureDisplay()"
   ]
  },
  {
   "cell_type": "code",
   "execution_count": null,
   "metadata": {
    "scrolled": false
   },
   "outputs": [],
   "source": [
    "kin_opt.inv_kin.w_ang_mom_tracking = 10.\n",
    "kin_opt.inv_kin.w_lin_mom_tracking = 10.\n",
    "\n",
    "motion_planner.optimize_dynamics(0)\n",
    "motion_planner.optimize_kinematics(0)\n",
    "motion_planner.replay_kinematics()\n",
    "motion_planner.plot_centroidal()"
   ]
  },
  {
   "cell_type": "code",
   "execution_count": null,
   "metadata": {},
   "outputs": [],
   "source": [
    "motion_planner.optimize_dynamics(1)\n",
    "motion_planner.optimize_kinematics(1)\n",
    "motion_planner.replay_kinematics()\n",
    "motion_planner.plot_centroidal()"
   ]
  },
  {
   "cell_type": "code",
   "execution_count": null,
   "metadata": {},
   "outputs": [],
   "source": [
    "motion_planner.optimize_dynamics(2)\n",
    "motion_planner.optimize_kinematics(2)\n",
    "motion_planner.replay_kinematics()\n",
    "motion_planner.plot_centroidal()"
   ]
  },
  {
   "cell_type": "code",
   "execution_count": null,
   "metadata": {},
   "outputs": [],
   "source": [
    "motion_planner.optimize_dynamics(3)\n",
    "motion_planner.optimize_kinematics(3)\n",
    "motion_planner.replay_kinematics()\n",
    "motion_planner.plot_centroidal()"
   ]
  },
  {
   "cell_type": "code",
   "execution_count": null,
   "metadata": {},
   "outputs": [],
   "source": [
    "self = kin_opt\n",
    "\n",
    "plan_joint_init_pos = self.planner_setting.get(\n",
    "        PlannerVectorParam_KinematicDefaultJointPositions)\n",
    "\n",
    "plan_joint_init_pos"
   ]
  },
  {
   "cell_type": "code",
   "execution_count": null,
   "metadata": {},
   "outputs": [],
   "source": []
  }
 ],
 "metadata": {
  "kernelspec": {
   "display_name": "Python 2",
   "language": "python",
   "name": "python2"
  },
  "language_info": {
   "codemirror_mode": {
    "name": "ipython",
    "version": 2
   },
   "file_extension": ".py",
   "mimetype": "text/x-python",
   "name": "python",
   "nbconvert_exporter": "python",
   "pygments_lexer": "ipython2",
   "version": "2.7.12"
  }
 },
 "nbformat": 4,
 "nbformat_minor": 2
}
