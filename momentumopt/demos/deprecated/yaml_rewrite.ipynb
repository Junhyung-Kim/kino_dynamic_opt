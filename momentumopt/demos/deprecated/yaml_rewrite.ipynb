{
 "cells": [
  {
   "cell_type": "code",
   "execution_count": null,
   "metadata": {},
   "outputs": [],
   "source": [
    "import sys\n",
    "import os\n",
    "from ruamel.yaml import YAML\n",
    "\n",
    "from collections import OrderedDict"
   ]
  },
  {
   "cell_type": "code",
   "execution_count": null,
   "metadata": {},
   "outputs": [],
   "source": [
    "def rewrite_file(filename):\n",
    "    yaml = YAML()\n",
    "    \n",
    "    print('Rewriting:', filename)\n",
    "\n",
    "    with open(\"../config/{}\".format(filename), \"r\") as f:\n",
    "        data = yaml.load(f.read())\n",
    "        \n",
    "    ### initial_robot_configuration\n",
    "\n",
    "    def mod_pos(arr, offset, relative_z=False):\n",
    "        res = arr[:]\n",
    "        res[offset + 0] = arr[offset + 1] # Swap y & x\n",
    "        res[offset + 1] = arr[offset + 0] * 1.42 # Swap x & y\n",
    "        if not relative_z:\n",
    "            res[offset + 2] += 0.32 # z-offset\n",
    "        arr[:] = res # Store result on the array again\n",
    "\n",
    "    s = data['initial_robot_configuration']\n",
    "    s['com'][2] += 0.32\n",
    "\n",
    "    for (k, v) in s['eef_pose'].items():\n",
    "        mod_pos(v, 1)\n",
    "\n",
    "    ### terrain_description\n",
    "    for e in data['terrain_description']['regions'][0]:\n",
    "        e[2] += 0.32\n",
    "\n",
    "    ### contact_plan\n",
    "\n",
    "    s = data['contact_plan']\n",
    "    for (k, v) in s.items():\n",
    "        if k.startswith('effcnt'):\n",
    "            for e in v:\n",
    "                mod_pos(e, 2)\n",
    "        elif k.startswith('effvia'):\n",
    "            for e in v:\n",
    "                mod_pos(e, 1)\n",
    "        else:\n",
    "            raise 'Unknown contact entry'\n",
    "        s[k] = v[:] # Create a new list to get bullet point like list styles.\n",
    "\n",
    "    ### planner_variables\n",
    "\n",
    "    s = data['planner_variables']\n",
    "    mod_pos(s['com_displacement'], 0, relative_z=True)\n",
    "\n",
    "    if 'default_joint_positions' in s:\n",
    "        v = s['default_joint_positions']\n",
    "        for i in range(len(v)):\n",
    "            v[i] *= -1\n",
    "    else:\n",
    "        s['default_joint_positions'] = tuple([0.52, -1.04, 0.52, -1.04, 0.52, -1.04, 0.52, -1.04])\n",
    "\n",
    "\n",
    "    for (k, v) in s['com_viapoints'].items():\n",
    "        mod_pos(v, 1)\n",
    "\n",
    "    for k in ['eff_offset_rf', 'eff_offset_lf', 'eff_offset_rh', 'eff_offset_lh']:\n",
    "        mod_pos(s[k], 0, relative_z=True)\n",
    "\n",
    "    for (k, v) in [(k, v) for (k, v) in s.items() if k.startswith('w_') and isinstance(v, list) and len(v) == 3]:\n",
    "        mod_pos(v, 0, relative_z=True)\n",
    "\n",
    "    ### solverlqr_dynamics\n",
    "\n",
    "    if 'solverlqr_dynamics' in data:\n",
    "        s = data['solverlqr_dynamics']\n",
    "        for (k, v) in s['user_parameters'].items():\n",
    "            mod_pos(v, 0, relative_z=True)\n",
    "\n",
    "    ### DONE\n",
    "#     os.rename(\"../config/{}\".format(filename), \"../config/old/{}\".format(filename))\n",
    "\n",
    "    out_filepath = \"../config/new/{}\".format(filename)\n",
    "    with open(out_filepath, 'w') as outfile:\n",
    "        yaml.dump(data, outfile)"
   ]
  },
  {
   "cell_type": "code",
   "execution_count": null,
   "metadata": {},
   "outputs": [],
   "source": [
    "from os import listdir\n",
    "from os.path import isfile, join\n",
    "cfg_files = [f for f in listdir('../config/') if f.endswith('.yaml')]\n",
    "cfg_files += ['other_demos/' + f for f in listdir('../config/other_demos') if f.endswith('.yaml')]\n",
    "cfg_files += ['SAB_Demos/' + f for f in listdir('../config/SAB_Demos') if f.endswith('.yaml')]"
   ]
  },
  {
   "cell_type": "code",
   "execution_count": null,
   "metadata": {},
   "outputs": [],
   "source": [
    "for f in cfg_files:\n",
    "    rewrite_file(f)"
   ]
  },
  {
   "cell_type": "code",
   "execution_count": null,
   "metadata": {},
   "outputs": [],
   "source": [
    "rewrite_file('../config/cfg_demo02_trot.yaml')\n",
    "rewrite_file('../config/cfg_quadruped_standing.yaml')"
   ]
  },
  {
   "cell_type": "code",
   "execution_count": null,
   "metadata": {},
   "outputs": [],
   "source": []
  }
 ],
 "metadata": {
  "kernelspec": {
   "display_name": "Python 3",
   "language": "python",
   "name": "python3"
  },
  "language_info": {
   "codemirror_mode": {
    "name": "ipython",
    "version": 3
   },
   "file_extension": ".py",
   "mimetype": "text/x-python",
   "name": "python",
   "nbconvert_exporter": "python",
   "pygments_lexer": "ipython3",
   "version": "3.7.3"
  }
 },
 "nbformat": 4,
 "nbformat_minor": 2
}
