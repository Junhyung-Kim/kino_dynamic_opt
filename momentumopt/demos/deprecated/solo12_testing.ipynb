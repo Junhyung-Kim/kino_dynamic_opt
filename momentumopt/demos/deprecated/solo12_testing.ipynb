{
 "cells": [
  {
   "cell_type": "code",
   "execution_count": 10,
   "metadata": {},
   "outputs": [
    {
     "name": "stdout",
     "output_type": "stream",
     "text": "The autoreload extension is already loaded. To reload it, use:\n  %reload_ext autoreload\n"
    }
   ],
   "source": [
    "%load_ext autoreload\n",
    "%autoreload 2\n",
    "\n",
    "import sys\n",
    "import os\n",
    "import numpy as np\n",
    "import matplotlib.pyplot as plt\n",
    "import time\n",
    "\n",
    "import momentumopt\n",
    "from momentumopt.motion_planner import MotionPlanner\n",
    "from momentumopt.kinoptpy.momentum_kinematics_optimizer import MomentumKinematicsOptimizer\n",
    "\n",
    "from momentumopt.quadruped.quadruped_wrapper import Quadruped12Wrapper\n",
    "\n",
    "def replay_kinematic_plan():\n",
    "    for ks in motion_planner.kin_optimizer.kinematics_sequence.kinematics_states:\n",
    "        q = ks.robot_posture.generalized_joint_positions\n",
    "        motion_planner.kin_optimizer.robot.display(np.matrix(q).T)\n",
    "        time.sleep(0.1)"
   ]
  },
  {
   "cell_type": "code",
   "execution_count": 16,
   "metadata": {},
   "outputs": [
    {
     "name": "stdout",
     "output_type": "stream",
     "text": "/usr/lib/python2.7/os.pyc/../config/cfg_solo12_jump.yaml\n"
    },
    {
     "ename": "RuntimeError",
     "evalue": "yaml-cpp: error at line 0, column 0: bad file",
     "output_type": "error",
     "traceback": [
      "\u001b[0;31m\u001b[0m",
      "\u001b[0;31mRuntimeError\u001b[0mTraceback (most recent call last)",
      "\u001b[0;32m<ipython-input-16-59ab54de0285>\u001b[0m in \u001b[0;36m<module>\u001b[0;34m()\u001b[0m\n\u001b[1;32m      2\u001b[0m \u001b[0;32mprint\u001b[0m\u001b[0;34m(\u001b[0m\u001b[0mcfg_file\u001b[0m\u001b[0;34m)\u001b[0m\u001b[0;34m\u001b[0m\u001b[0m\n\u001b[1;32m      3\u001b[0m \u001b[0;34m\u001b[0m\u001b[0m\n\u001b[0;32m----> 4\u001b[0;31m \u001b[0mmotion_planner\u001b[0m \u001b[0;34m=\u001b[0m \u001b[0mMotionPlanner\u001b[0m\u001b[0;34m(\u001b[0m\u001b[0mcfg_file\u001b[0m\u001b[0;34m,\u001b[0m \u001b[0mMomentumKinematicsOptimizer\u001b[0m\u001b[0;34m,\u001b[0m \u001b[0mRobotWrapper\u001b[0m\u001b[0;34m=\u001b[0m\u001b[0mQuadruped12Wrapper\u001b[0m\u001b[0;34m)\u001b[0m\u001b[0;34m\u001b[0m\u001b[0m\n\u001b[0m\u001b[1;32m      5\u001b[0m \u001b[0minv_kin\u001b[0m \u001b[0;34m=\u001b[0m \u001b[0mmotion_planner\u001b[0m\u001b[0;34m.\u001b[0m\u001b[0mkin_optimizer\u001b[0m\u001b[0;34m.\u001b[0m\u001b[0minv_kin\u001b[0m\u001b[0;34m\u001b[0m\u001b[0m\n\u001b[1;32m      6\u001b[0m \u001b[0mkin_opt\u001b[0m \u001b[0;34m=\u001b[0m \u001b[0mmotion_planner\u001b[0m\u001b[0;34m.\u001b[0m\u001b[0mkin_optimizer\u001b[0m\u001b[0;34m\u001b[0m\u001b[0m\n",
      "\u001b[0;32m/home/mnaveau/devel/workspace/src/catkin/control/kino-dynamic-opt/momentumopt/python/momentumopt/motion_planner.pyc\u001b[0m in \u001b[0;36m__init__\u001b[0;34m(self, cfg_file, KinOpt, RobotWrapper, with_lqr)\u001b[0m\n\u001b[1;32m     42\u001b[0m \u001b[0;34m\u001b[0m\u001b[0m\n\u001b[1;32m     43\u001b[0m         \u001b[0mself\u001b[0m\u001b[0;34m.\u001b[0m\u001b[0mdynlqr_setting\u001b[0m \u001b[0;34m=\u001b[0m \u001b[0mSolverLqrSetting\u001b[0m\u001b[0;34m(\u001b[0m\u001b[0;34m)\u001b[0m\u001b[0;34m\u001b[0m\u001b[0m\n\u001b[0;32m---> 44\u001b[0;31m         \u001b[0mself\u001b[0m\u001b[0;34m.\u001b[0m\u001b[0mdynlqr_setting\u001b[0m\u001b[0;34m.\u001b[0m\u001b[0minitialize\u001b[0m\u001b[0;34m(\u001b[0m\u001b[0mcfg_file\u001b[0m\u001b[0;34m,\u001b[0m \u001b[0;34m\"solverlqr_dynamics\"\u001b[0m\u001b[0;34m)\u001b[0m\u001b[0;34m\u001b[0m\u001b[0m\n\u001b[0m\u001b[1;32m     45\u001b[0m \u001b[0;34m\u001b[0m\u001b[0m\n\u001b[1;32m     46\u001b[0m         \u001b[0;34m'define robot initial state'\u001b[0m\u001b[0;34m\u001b[0m\u001b[0m\n",
      "\u001b[0;31mRuntimeError\u001b[0m: yaml-cpp: error at line 0, column 0: bad file"
     ]
    }
   ],
   "source": [
    "cfg_file = os.path.join(momentumopt.__file__, '..', 'config', 'cfg_solo12_jump.yaml')\n",
    "print(cfg_file)\n",
    "\n",
    "motion_planner = MotionPlanner(cfg_file, MomentumKinematicsOptimizer, RobotWrapper=Quadruped12Wrapper)\n",
    "inv_kin = motion_planner.kin_optimizer.inv_kin\n",
    "kin_opt = motion_planner.kin_optimizer\n",
    "\n",
    "kin_opt.robot.ensureDisplay()"
   ]
  },
  {
   "cell_type": "code",
   "execution_count": 0,
   "metadata": {},
   "outputs": [],
   "source": [
    "motion_planner.optimize_dynamics(0)\n",
    "motion_planner.optimize_kinematics(0)\n",
    "motion_planner.replay_kinematics()\n",
    "motion_planner.plot_centroidal()"
   ]
  },
  {
   "cell_type": "code",
   "execution_count": 0,
   "metadata": {},
   "outputs": [],
   "source": [
    "motion_planner.optimize_dynamics(1)\n",
    "motion_planner.optimize_kinematics(1)\n",
    "motion_planner.replay_kinematics()\n",
    "motion_planner.plot_centroidal()"
   ]
  },
  {
   "cell_type": "code",
   "execution_count": 0,
   "metadata": {},
   "outputs": [],
   "source": [
    "motion_planner.optimize_dynamics(2)\n",
    "motion_planner.optimize_kinematics(2)\n",
    "motion_planner.replay_kinematics()\n",
    "motion_planner.plot_centroidal()"
   ]
  },
  {
   "cell_type": "code",
   "execution_count": 0,
   "metadata": {},
   "outputs": [],
   "source": [
    "motion_planner.optimize_dynamics(3)\n",
    "motion_planner.optimize_kinematics(3)\n",
    "motion_planner.replay_kinematics()\n",
    "motion_planner.plot_centroidal()"
   ]
  },
  {
   "cell_type": "code",
   "execution_count": 0,
   "metadata": {},
   "outputs": [],
   "source": [
    "self = kin_opt\n",
    "\n",
    "plan_joint_init_pos = self.planner_setting.get(\n",
    "        PlannerVectorParam_KinematicDefaultJointPositions)\n",
    "\n",
    "plan_joint_init_pos"
   ]
  },
  {
   "cell_type": "code",
   "execution_count": null,
   "metadata": {},
   "outputs": [],
   "source": []
  }
 ],
 "metadata": {
  "kernelspec": {
   "display_name": "Python 2",
   "language": "python",
   "name": "python2"
  },
  "language_info": {
   "codemirror_mode": {
    "name": "ipython",
    "version": 2
   },
   "file_extension": ".py",
   "mimetype": "text/x-python",
   "name": "python",
   "nbconvert_exporter": "python",
   "pygments_lexer": "ipython2",
   "version": "2.7.12"
  }
 },
 "nbformat": 4,
 "nbformat_minor": 2
}