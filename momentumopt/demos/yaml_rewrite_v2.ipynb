{
 "cells": [
  {
   "cell_type": "code",
   "execution_count": 19,
   "metadata": {},
   "outputs": [],
   "source": [
    "import copy\n",
    "import sys\n",
    "import os\n",
    "from ruamel.yaml import YAML\n",
    "\n",
    "from collections import OrderedDict"
   ]
  },
  {
   "cell_type": "code",
   "execution_count": 20,
   "metadata": {},
   "outputs": [],
   "source": [
    "def rewrite_file(filename):\n",
    "    yaml = YAML()\n",
    "\n",
    "    print('Rewriting:', filename)\n",
    "\n",
    "    with open(\"../config/{}\".format(filename), \"r\") as f:\n",
    "        data = yaml.load(f.read())\n",
    "\n",
    "    ### initial_robot_configuration\n",
    "\n",
    "    s = data['initial_robot_configuration']\n",
    "\n",
    "    # Fix the initial position.\n",
    "    eef_pose = copy.deepcopy(s['eef_pose'])\n",
    "    s['eef_pose']['eef_rf'] = eef_pose['eef_lh']\n",
    "    s['eef_pose']['eef_lf'] = eef_pose['eef_rh']\n",
    "    s['eef_pose']['eef_rh'] = eef_pose['eef_lf']\n",
    "    s['eef_pose']['eef_lh'] = eef_pose['eef_rf']\n",
    "\n",
    "    s = data['contact_plan']\n",
    "    contact_plan = copy.deepcopy(s)\n",
    "    s['effcnt_rf'] = contact_plan['effcnt_lh']\n",
    "    s['effcnt_lf'] = contact_plan['effcnt_rh']\n",
    "    s['effcnt_rh'] = contact_plan['effcnt_lf']\n",
    "    s['effcnt_lh'] = contact_plan['effcnt_rf']\n",
    "\n",
    "\n",
    "    planner_variables = copy.deepcopy(data['planner_variables'])\n",
    "    data['planner_variables']['eff_offset_rf'] = planner_variables['eff_offset_lh']\n",
    "    data['planner_variables']['eff_offset_lf'] = planner_variables['eff_offset_rh']\n",
    "    data['planner_variables']['eff_offset_rh'] = planner_variables['eff_offset_lf']\n",
    "    data['planner_variables']['eff_offset_lh'] = planner_variables['eff_offset_rf']\n",
    "\n",
    "    data['planner_variables']['floor_height'] = 0.\n",
    "    data['planner_variables']['robot_mass'] = 2.178\n",
    "\n",
    "\n",
    "    ## DONE\n",
    "    out_filepath = \"../config/new/{}\".format(filename)\n",
    "    with open(out_filepath, 'w') as outfile:\n",
    "        yaml.dump(data, outfile)\n",
    "    \n",
    "    os.rename(\"../config/{}\".format(filename), \"../config/old/{}\".format(filename))"
   ]
  },
  {
   "cell_type": "code",
   "execution_count": 30,
   "metadata": {},
   "outputs": [],
   "source": [
    "from os import listdir\n",
    "from os.path import isfile, join\n",
    "cfg_files = [f for f in listdir('../config/') if f.endswith('.yaml')]\n",
    "cfg_files += ['other_demos/' + f for f in listdir('../config/other_demos') if f.endswith('.yaml')]\n",
    "cfg_files += ['SAB_Demos/' + f for f in listdir('../config/SAB_Demos') if f.endswith('.yaml')]"
   ]
  },
  {
   "cell_type": "code",
   "execution_count": 31,
   "metadata": {},
   "outputs": [
    {
     "name": "stdout",
     "output_type": "stream",
     "text": [
      "('Rewriting:', 'other_demos/cfg_quadruped_0.yaml')\n",
      "('Rewriting:', 'other_demos/cfg_quadruped_1.yaml')\n",
      "('Rewriting:', 'other_demos/cfg_quadruped_2.yaml')\n",
      "('Rewriting:', 'SAB_Demos/cfg_solo_jump.yaml')\n",
      "('Rewriting:', 'SAB_Demos/cfg_quadruped_trot.yaml')\n",
      "('Rewriting:', 'SAB_Demos/cfg_quadruped_rearing.yaml')\n",
      "('Rewriting:', 'SAB_Demos/cfg_quadruped_reach.yaml')\n",
      "('Rewriting:', 'SAB_Demos/cfg_quadruped_forward_jump.yaml')\n",
      "('Rewriting:', 'SAB_Demos/cfg_quadruped_forward_jump_box.yaml')\n"
     ]
    }
   ],
   "source": [
    "for f in cfg_files:\n",
    "    rewrite_file(f)"
   ]
  },
  {
   "cell_type": "code",
   "execution_count": 18,
   "metadata": {},
   "outputs": [
    {
     "name": "stdout",
     "output_type": "stream",
     "text": [
      "('Rewriting:', 'cfg_demo02_trot_continous.yaml')\n"
     ]
    }
   ],
   "source": [
    "rewrite_file('cfg_demo02_trot_continous.yaml')"
   ]
  },
  {
   "cell_type": "code",
   "execution_count": null,
   "metadata": {},
   "outputs": [],
   "source": []
  }
 ],
 "metadata": {
  "kernelspec": {
   "display_name": "Python 2",
   "language": "python",
   "name": "python2"
  },
  "language_info": {
   "codemirror_mode": {
    "name": "ipython",
    "version": 2
   },
   "file_extension": ".py",
   "mimetype": "text/x-python",
   "name": "python",
   "nbconvert_exporter": "python",
   "pygments_lexer": "ipython2",
   "version": "2.7.16"
  }
 },
 "nbformat": 4,
 "nbformat_minor": 2
}
